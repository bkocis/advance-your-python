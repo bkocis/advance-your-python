{
 "cells": [
  {
   "cell_type": "markdown",
   "metadata": {},
   "source": [
    "-------------\n",
    "# &nbsp;&nbsp;&nbsp;&nbsp;&nbsp;&nbsp; \n",
    "<h1 align=\"center\"> Basic and advanced OOP in Python</h1> \n",
    "<pre>\n",
    "<pre>"
   ]
  },
  {
   "cell_type": "markdown",
   "metadata": {},
   "source": [
    "--------------\n",
    "### [Content](#Content)<a name=\"Content\"></a>\n",
    "--------------\n",
    "\n",
    "#### [Part 1](#part_1) Some basics\n",
    "    \n",
    "> #### 1.1 [Classes and instances](#Classes and instances)\n",
    "#### 1.2 [Class variables](#Class variables)\n",
    "#### 1.3 [Classmethods](#Classmethods)\n",
    "#### 1.4 [Staticmethods](#Staticmethods)\n",
    "#### 1.5 [Inharitance](#Inharitance)\n",
    "#### 1.6 [Property decorator](#Property decorator)\n",
    "\n",
    "#### [Part 2](#part_2) Aspects of advanced OOP\n",
    "\n",
    "> #### 2.1 [An iterator class](#An iterator class)\n",
    "> > ##### 2.1.1 [The iterator protocol](#The iterator protocol)\n",
    "\n",
    "\n",
    "_______________\n",
    "_______________\n",
    "_______________\n",
    "_______________\n",
    "_______________\n",
    "_______________\n",
    "\n"
   ]
  },
  {
   "cell_type": "markdown",
   "metadata": {},
   "source": [
    "# Part 1 <a name=\"part_1\"></a>"
   ]
  },
  {
   "cell_type": "markdown",
   "metadata": {},
   "source": [
    "## 1.1 Classes and instances <a name=\"Classes and instances\"></a>"
   ]
  },
  {
   "cell_type": "markdown",
   "metadata": {},
   "source": [
    "[back to top](#Content)"
   ]
  },
  {
   "cell_type": "raw",
   "metadata": {},
   "source": [
    "\n",
    "def: \n",
    "\n",
    "\"A class is a blueprint to create instances\"\n",
    "\n",
    "data                  = atributes \n",
    "function              = method (function accosiated to a class)\n",
    "instance variable     = contains data unique for each instance \n",
    "\n",
    "methods from class recieve the first instance automatically \n"
   ]
  },
  {
   "cell_type": "code",
   "execution_count": 58,
   "metadata": {
    "collapsed": false
   },
   "outputs": [],
   "source": [
    "#Example of a class\n",
    "\n",
    "class Employee:\n",
    "    def __init__(self, first, last, pay): # fisr, last, pay are the arguments \n",
    "        self.first = first                # instance variable \n",
    "        self.last = last                  # instance variable \n",
    "        self.pay = pay\n",
    "\n",
    "# creating instances\n",
    "emp1 = Employee(\"Arthur\",\"Klark\",\"1000\")  # emp1 is an instance of the class,\n",
    "emp2 = Employee(\"Brigitte\", \"Klark\",\"2000\")\n",
    "\n",
    "#emp1.first = \"food\"\n"
   ]
  },
  {
   "cell_type": "code",
   "execution_count": 59,
   "metadata": {
    "collapsed": false
   },
   "outputs": [
    {
     "name": "stdout",
     "output_type": "stream",
     "text": [
      "Arthur  Klark\n"
     ]
    },
    {
     "data": {
      "text/plain": [
       "'Arthur  Klark'"
      ]
     },
     "execution_count": 59,
     "metadata": {},
     "output_type": "execute_result"
    }
   ],
   "source": [
    "# Example of a class method - regular method \n",
    "\n",
    "class Employee:\n",
    "    def __init__(self,first, last, pay):\n",
    "        self.first = first\n",
    "        self.last = last\n",
    "        self.pay = pay\n",
    "        \n",
    "    def fullname(self):\n",
    "        return '{} {}'.format(self.first, self.last)\n",
    "\n",
    "# creating instances\n",
    "emp1 = Employee('Arthur', ' Klark', '1000')\n",
    "print(emp1.fullname())\n",
    "# or\n",
    "Employee.fullname(emp1)"
   ]
  },
  {
   "cell_type": "markdown",
   "metadata": {},
   "source": [
    "## 1.2 Class variables <a name=\"Class variables\"></a>"
   ]
  },
  {
   "cell_type": "markdown",
   "metadata": {},
   "source": [
    "[back to top](#Content)"
   ]
  },
  {
   "cell_type": "raw",
   "metadata": {},
   "source": [
    "\n",
    "def:\n",
    "\n",
    "\"Class variables are variables that are shared between all instances of a class\"\n"
   ]
  },
  {
   "cell_type": "code",
   "execution_count": 60,
   "metadata": {
    "collapsed": false
   },
   "outputs": [
    {
     "name": "stdout",
     "output_type": "stream",
     "text": [
      "1040\n"
     ]
    }
   ],
   "source": [
    "# Example class variable\n",
    "class Employee:\n",
    "    raise_amount = 1.04\n",
    "    def __init__(self, first, last, pay):\n",
    "        self.first = first\n",
    "        self.last = last\n",
    "        self.pay = pay\n",
    "        \n",
    "    def fullname(self):\n",
    "        return ' {} {} '.format(self.first, self.last)\n",
    "    \n",
    "    def apply_raise(self):\n",
    "        #self.pay = int(self.pay * 1.04)\n",
    "        self.pay  = int(self.pay * self.raise_amount)\n",
    "        \n",
    "emp1 = Employee('Arthur','Klark',1000)\n",
    "emp1.apply_raise()\n",
    "print(emp1.pay)"
   ]
  },
  {
   "cell_type": "code",
   "execution_count": 61,
   "metadata": {
    "collapsed": false
   },
   "outputs": [
    {
     "name": "stdout",
     "output_type": "stream",
     "text": [
      "{'first': 'Arthur', 'pay': 1040, 'last': 'Klark'}\n"
     ]
    }
   ],
   "source": [
    "# print out the namespace of the instance\n",
    "print(emp1.__dict__)"
   ]
  },
  {
   "cell_type": "code",
   "execution_count": 62,
   "metadata": {
    "collapsed": false
   },
   "outputs": [
    {
     "name": "stdout",
     "output_type": "stream",
     "text": [
      "{'__dict__': <attribute '__dict__' of 'Employee' objects>, 'apply_raise': <function Employee.apply_raise at 0x7f7b42baebf8>, '__module__': '__main__', 'fullname': <function Employee.fullname at 0x7f7b42baec80>, '__doc__': None, '__init__': <function Employee.__init__ at 0x7f7b42baea60>, '__weakref__': <attribute '__weakref__' of 'Employee' objects>, 'raise_amount': 1.04}\n"
     ]
    }
   ],
   "source": [
    "# print out the namespace of the class - it does contain the 'raise_amount' attribute\n",
    "print(Employee.__dict__)"
   ]
  },
  {
   "cell_type": "code",
   "execution_count": 63,
   "metadata": {
    "collapsed": true
   },
   "outputs": [],
   "source": [
    "# to change the class variable do:\n",
    "Employee.raise_amount = 1.04"
   ]
  },
  {
   "cell_type": "code",
   "execution_count": 64,
   "metadata": {
    "collapsed": false
   },
   "outputs": [
    {
     "name": "stdout",
     "output_type": "stream",
     "text": [
      "1.04\n"
     ]
    }
   ],
   "source": [
    "print(Employee.raise_amount)"
   ]
  },
  {
   "cell_type": "code",
   "execution_count": 65,
   "metadata": {
    "collapsed": false
   },
   "outputs": [
    {
     "name": "stdout",
     "output_type": "stream",
     "text": [
      "1060\n"
     ]
    }
   ],
   "source": [
    "# changing the class variable through the instance will not change the variable for the class\n",
    "emp1 = Employee('Arthur','Klark',1000)\n",
    "emp1.raise_amount = 1.06\n",
    "emp1.apply_raise()\n",
    "print(emp1.pay)"
   ]
  },
  {
   "cell_type": "code",
   "execution_count": 66,
   "metadata": {
    "collapsed": false
   },
   "outputs": [
    {
     "name": "stdout",
     "output_type": "stream",
     "text": [
      "1040\n"
     ]
    }
   ],
   "source": [
    "emp1 = Employee('Arthur','Klark',1000)\n",
    "emp1.apply_raise()\n",
    "print(emp1.pay)"
   ]
  },
  {
   "cell_type": "code",
   "execution_count": 67,
   "metadata": {
    "collapsed": false
   },
   "outputs": [
    {
     "name": "stdout",
     "output_type": "stream",
     "text": [
      "2\n"
     ]
    }
   ],
   "source": [
    "# Example Track the number of employees using class variables\n",
    "class Employee:\n",
    "    num_of_emps = 0\n",
    "    raise_amount = 1.04\n",
    "    def __init__(self, first, last, pay):\n",
    "        self.first = first\n",
    "        self.last = last\n",
    "        self.pay = pay\n",
    "        Employee.num_of_emps += 1                         # on a class \n",
    "        \n",
    "    def fullname(self):\n",
    "        return ' {} {}'.format(self.first, self.last)\n",
    "    \n",
    "    def apply_raise(self):\n",
    "        self.pay = int( self.pay * self.raise_amount)     # on an instance\n",
    "        \n",
    "\n",
    "emp1 = Employee('Arthur','Klark',1000)\n",
    "#print(Employee.num_of_emps)\n",
    "\n",
    "emp2 = Employee('Douglas','Kirk',2000)\n",
    "print(Employee.num_of_emps)"
   ]
  },
  {
   "cell_type": "markdown",
   "metadata": {},
   "source": [
    "## 1.3 Classmethods <a name=\"Classmethods\"></a>"
   ]
  },
  {
   "cell_type": "markdown",
   "metadata": {},
   "source": [
    "[back to top](#Content)"
   ]
  },
  {
   "cell_type": "raw",
   "metadata": {},
   "source": [
    "\n",
    "\"Classmethods receive the class as the first argument instead of an instance\"\n",
    "\n"
   ]
  },
  {
   "cell_type": "code",
   "execution_count": 70,
   "metadata": {
    "collapsed": false
   },
   "outputs": [],
   "source": [
    "# Example \n",
    "class Employee:\n",
    "    num_of_emps = 0\n",
    "    raise_amount = 1.04\n",
    "    def __init__(self, first, last, pay):\n",
    "        self.first = first \n",
    "        self.last = last\n",
    "        self.pay = pay\n",
    "        Employee.num_of_emps += 1\n",
    "        \n",
    "    def fullname(self):\n",
    "        return '{} {}'.format(self.first, self.last)\n",
    "    \n",
    "    def apply_raise(self):\n",
    "        self.pay = int( self.pay * self.raise_amount)\n",
    "    \n",
    "    @classmethod\n",
    "    def set_raise_amount( cls, amount ):\n",
    "        cls.raise_amount = amount\n",
    "        \n",
    "        "
   ]
  },
  {
   "cell_type": "code",
   "execution_count": 72,
   "metadata": {
    "collapsed": true
   },
   "outputs": [],
   "source": [
    "emp1 = Employee('Arthur','Klark',1000)"
   ]
  },
  {
   "cell_type": "code",
   "execution_count": 73,
   "metadata": {
    "collapsed": false
   },
   "outputs": [
    {
     "name": "stdout",
     "output_type": "stream",
     "text": [
      "1.07\n"
     ]
    }
   ],
   "source": [
    "Employee.set_raise_amount(1.07)\n",
    "print(Employee.raise_amount)"
   ]
  },
  {
   "cell_type": "code",
   "execution_count": 75,
   "metadata": {
    "collapsed": false
   },
   "outputs": [
    {
     "name": "stdout",
     "output_type": "stream",
     "text": [
      "1.07\n"
     ]
    }
   ],
   "source": [
    "print(emp1.raise_amount)"
   ]
  },
  {
   "cell_type": "code",
   "execution_count": 162,
   "metadata": {
    "collapsed": false
   },
   "outputs": [
    {
     "name": "stdout",
     "output_type": "stream",
     "text": [
      "1.08\n",
      "1.04\n"
     ]
    }
   ],
   "source": [
    "# the instance can also run the classmethod and so change the class variable \n",
    "emp1.set_raise_amount(1.08)\n",
    "print(emp1.raise_amount)\n",
    "print(Employee.raise_amount)"
   ]
  },
  {
   "cell_type": "code",
   "execution_count": 163,
   "metadata": {
    "collapsed": false
   },
   "outputs": [],
   "source": [
    "# extending the class  \n",
    "class Employee:\n",
    "    num_of_emps = 0\n",
    "    raise_amount = 1.04\n",
    "    def __init__(self, first, last, pay):\n",
    "        self.first = first \n",
    "        self.last = last\n",
    "        self.pay = pay\n",
    "        Employee.num_of_emps += 1\n",
    "        \n",
    "    def fullname(self):\n",
    "        return '{} {}'.format(self.first, self.last)\n",
    "    \n",
    "    def apply_raise(self):\n",
    "        self.pay = int( self.pay * self.raise_amount)\n",
    "    \n",
    "    @classmethod\n",
    "    def set_raise_amount( cls, amount ):\n",
    "        cls.raise_amount = amount\n",
    "        \n",
    "    @classmethod\n",
    "    def from_string( cls, emp_str):\n",
    "        \"\"\"transforms a string input to desired form: 'Johnny-Mnemonic-100000\"\"\"\n",
    "        first, last, pay = emp_str.split('-')\n",
    "        return cls(first, last, int(pay))"
   ]
  },
  {
   "cell_type": "code",
   "execution_count": 100,
   "metadata": {
    "collapsed": true
   },
   "outputs": [],
   "source": [
    "emp_str = 'Johnny-Mnemonic-100000'\n",
    "\n",
    "new_emp1 = Employee.from_string(emp_str)"
   ]
  },
  {
   "cell_type": "code",
   "execution_count": 101,
   "metadata": {
    "collapsed": false
   },
   "outputs": [
    {
     "data": {
      "text/plain": [
       "'Johnny Mnemonic'"
      ]
     },
     "execution_count": 101,
     "metadata": {},
     "output_type": "execute_result"
    }
   ],
   "source": [
    "new_emp1.fullname()"
   ]
  },
  {
   "cell_type": "code",
   "execution_count": 102,
   "metadata": {
    "collapsed": false
   },
   "outputs": [],
   "source": [
    "new_emp1.apply_raise()"
   ]
  },
  {
   "cell_type": "code",
   "execution_count": 103,
   "metadata": {
    "collapsed": false
   },
   "outputs": [
    {
     "name": "stdout",
     "output_type": "stream",
     "text": [
      "104000\n"
     ]
    }
   ],
   "source": [
    "print(new_emp1.pay)"
   ]
  },
  {
   "cell_type": "code",
   "execution_count": null,
   "metadata": {
    "collapsed": true
   },
   "outputs": [],
   "source": []
  },
  {
   "cell_type": "markdown",
   "metadata": {},
   "source": [
    "# 1.4 Staticmethods <a name=\"Staticmethods\"></a>"
   ]
  },
  {
   "cell_type": "markdown",
   "metadata": {},
   "source": [
    "[back to top](#Content)"
   ]
  },
  {
   "cell_type": "raw",
   "metadata": {},
   "source": [
    "\n",
    "- regular methods : pass the instance as the first argument \n",
    "- class methods   : pass the class as the first argument \n",
    "- static methods  : don't pass nothing automatically, only takes the argument that we investigate\n"
   ]
  },
  {
   "cell_type": "code",
   "execution_count": 134,
   "metadata": {
    "collapsed": false
   },
   "outputs": [],
   "source": [
    "# Example\n",
    "class DayCheck:\n",
    "#    def __init__(self, day):\n",
    "#        self.day = day\n",
    "        \n",
    "    @staticmethod\n",
    "    def is_workday(day):\n",
    "        if day.weekday() == 5 or day.weekday() == 6:\n",
    "            return False\n",
    "        return True\n",
    "    \n",
    "d=datetime.date(2017,10,22) "
   ]
  },
  {
   "cell_type": "code",
   "execution_count": 137,
   "metadata": {
    "collapsed": false
   },
   "outputs": [
    {
     "data": {
      "text/plain": [
       "False"
      ]
     },
     "execution_count": 137,
     "metadata": {},
     "output_type": "execute_result"
    }
   ],
   "source": [
    "#DayCheck(d).is_workday(d)\n",
    "DayCheck.is_workday(d)"
   ]
  },
  {
   "cell_type": "code",
   "execution_count": null,
   "metadata": {
    "collapsed": true
   },
   "outputs": [],
   "source": []
  },
  {
   "cell_type": "markdown",
   "metadata": {},
   "source": [
    "# 1.5 Inharitance <a name=\"Inharitance\"></a>"
   ]
  },
  {
   "cell_type": "markdown",
   "metadata": {},
   "source": [
    "[back to top](#Content)"
   ]
  },
  {
   "cell_type": "raw",
   "metadata": {},
   "source": [
    "\n",
    "\"Inharitance allows to inharit attributes and methods from a parent class\".\n",
    "So it extends the parent class without affecting it's functionality in any way.\n"
   ]
  },
  {
   "cell_type": "code",
   "execution_count": 142,
   "metadata": {
    "collapsed": true
   },
   "outputs": [],
   "source": [
    "# extending the class  \n",
    "class Employee:\n",
    "    num_of_emps = 0\n",
    "    raise_amount = 1.04\n",
    "    def __init__(self, first, last, pay):\n",
    "        self.first = first \n",
    "        self.last = last\n",
    "        self.pay = pay\n",
    "        Employee.num_of_emps += 1\n",
    "        \n",
    "    def fullname(self):\n",
    "        return '{} {}'.format(self.first, self.last)\n",
    "    \n",
    "    def apply_raise(self):\n",
    "        self.pay = int( self.pay * self.raise_amount)\n",
    "    \n",
    "    @classmethod\n",
    "    def set_raise_amount( cls, amount ):\n",
    "        cls.raise_amount = amount\n",
    "        \n",
    "    @classmethod\n",
    "    def from_string( cls, emp_str):\n",
    "        \"\"\"transforms a string input to desired form: 'Johnny-Mnemonic-100000\"\"\"\n",
    "        first, last, pay = emp_str.split('-')\n",
    "        return cls(first, last, int(pay))\n",
    "    \n",
    "    @staticmethod\n",
    "    def is_workday(day):\n",
    "        if day.weekday() == 5 or day.weekday() == 6:\n",
    "            return False\n",
    "        return True\n",
    "\n",
    "# define another class\n",
    "class Developer(Employee):\n",
    "    raise_amount = 2\n",
    "\n"
   ]
  },
  {
   "cell_type": "code",
   "execution_count": 140,
   "metadata": {
    "collapsed": false
   },
   "outputs": [
    {
     "data": {
      "text/plain": [
       "False"
      ]
     },
     "execution_count": 140,
     "metadata": {},
     "output_type": "execute_result"
    }
   ],
   "source": [
    "Employee('Arthur','Klark',1000).is_workday(d)"
   ]
  },
  {
   "cell_type": "code",
   "execution_count": 143,
   "metadata": {
    "collapsed": true
   },
   "outputs": [],
   "source": [
    "dev1 = Developer('Arthur','Klark',1000)"
   ]
  },
  {
   "cell_type": "code",
   "execution_count": 144,
   "metadata": {
    "collapsed": false
   },
   "outputs": [
    {
     "name": "stdout",
     "output_type": "stream",
     "text": [
      "2\n"
     ]
    }
   ],
   "source": [
    "print(dev1.raise_amount)"
   ]
  },
  {
   "cell_type": "code",
   "execution_count": 145,
   "metadata": {
    "collapsed": false
   },
   "outputs": [
    {
     "name": "stdout",
     "output_type": "stream",
     "text": [
      "1000\n"
     ]
    }
   ],
   "source": [
    "print(dev1.pay)"
   ]
  },
  {
   "cell_type": "code",
   "execution_count": 147,
   "metadata": {
    "collapsed": false
   },
   "outputs": [],
   "source": [
    "Developer.apply_raise(dev1)"
   ]
  },
  {
   "cell_type": "code",
   "execution_count": 148,
   "metadata": {
    "collapsed": false
   },
   "outputs": [
    {
     "name": "stdout",
     "output_type": "stream",
     "text": [
      "2000\n"
     ]
    }
   ],
   "source": [
    "print(dev1.pay)"
   ]
  },
  {
   "cell_type": "code",
   "execution_count": 150,
   "metadata": {
    "collapsed": true
   },
   "outputs": [],
   "source": [
    "# adding more functionality to the original class\n",
    "\n",
    "class Developer(Employee):\n",
    "    raise_amount = 2\n",
    "    \n",
    "    def __init__(self, first, last, pay, prog_lang):\n",
    "        #self.first = first\n",
    "        #self.last = last\n",
    "        #self.pay = pay\n",
    "        #self.prog_lang = prog_lang\n",
    "        \n",
    "        # insted the lines above you can take the super method to take all attributes from the original class \n",
    "        super().__init__(first, last, pay)\n",
    "        \n",
    "        # and just define the additional attribute\n",
    "        self.prog_lang = prog_lang\n",
    "        \n",
    "        "
   ]
  },
  {
   "cell_type": "code",
   "execution_count": 151,
   "metadata": {
    "collapsed": true
   },
   "outputs": [],
   "source": [
    "dev1 = Developer('Arthut', 'Klark', 1000, 'Python')"
   ]
  },
  {
   "cell_type": "code",
   "execution_count": 152,
   "metadata": {
    "collapsed": false
   },
   "outputs": [
    {
     "data": {
      "text/plain": [
       "'Arthut Klark'"
      ]
     },
     "execution_count": 152,
     "metadata": {},
     "output_type": "execute_result"
    }
   ],
   "source": [
    "dev1.fullname()"
   ]
  },
  {
   "cell_type": "code",
   "execution_count": 153,
   "metadata": {
    "collapsed": false
   },
   "outputs": [
    {
     "name": "stdout",
     "output_type": "stream",
     "text": [
      "Python\n"
     ]
    }
   ],
   "source": [
    "print(dev1.prog_lang)"
   ]
  },
  {
   "cell_type": "code",
   "execution_count": null,
   "metadata": {
    "collapsed": true
   },
   "outputs": [],
   "source": []
  },
  {
   "cell_type": "code",
   "execution_count": 155,
   "metadata": {
    "collapsed": true
   },
   "outputs": [],
   "source": [
    "# adding more classes that inharit from Employee class\n",
    "class Manager(Employee):\n",
    "    def __init__(self, first, last, pay, employees = None):\n",
    "        super().__init__(first, last, pay)\n",
    "        \n",
    "        if employees is None:\n",
    "            self.employees = []\n",
    "        else:\n",
    "            self.employees = employees\n",
    "        \n",
    "    # adding more regular methods\n",
    "    \n",
    "    def add_emp(self, emp):\n",
    "        if emp not in self.employees:\n",
    "            self.employees.append(emp)\n",
    "    \n",
    "    def print_emp(self):\n",
    "        for emp in self.employees:\n",
    "            print( '->>',emp.fullname())"
   ]
  },
  {
   "cell_type": "code",
   "execution_count": 157,
   "metadata": {
    "collapsed": false
   },
   "outputs": [],
   "source": [
    "dev1 = Developer('Arthur', 'Klark', 1000, 'python')"
   ]
  },
  {
   "cell_type": "code",
   "execution_count": 158,
   "metadata": {
    "collapsed": true
   },
   "outputs": [],
   "source": [
    "mng1 = Manager('Robert', 'Doyle', 500, [dev1])"
   ]
  },
  {
   "cell_type": "code",
   "execution_count": 160,
   "metadata": {
    "collapsed": false
   },
   "outputs": [
    {
     "name": "stdout",
     "output_type": "stream",
     "text": [
      "->> Arthur Klark\n"
     ]
    }
   ],
   "source": [
    "mng1.print_emp()"
   ]
  },
  {
   "cell_type": "code",
   "execution_count": 161,
   "metadata": {
    "collapsed": false
   },
   "outputs": [
    {
     "data": {
      "text/plain": [
       "'Robert Doyle'"
      ]
     },
     "execution_count": 161,
     "metadata": {},
     "output_type": "execute_result"
    }
   ],
   "source": [
    "mng1.fullname()"
   ]
  },
  {
   "cell_type": "code",
   "execution_count": null,
   "metadata": {
    "collapsed": true
   },
   "outputs": [],
   "source": []
  },
  {
   "cell_type": "markdown",
   "metadata": {},
   "source": [
    "# 1.6 Property decorator <a name=\"Property decorator\"></a>"
   ]
  },
  {
   "cell_type": "markdown",
   "metadata": {},
   "source": [
    "[back to top](#Content)"
   ]
  },
  {
   "cell_type": "raw",
   "metadata": {},
   "source": [
    "\n",
    "\"When @property decorator is applied on a regular method of a class, that method will be accessible only as an attribute \n",
    "and not as a mtehod\"\n"
   ]
  },
  {
   "cell_type": "code",
   "execution_count": 181,
   "metadata": {
    "collapsed": false
   },
   "outputs": [
    {
     "name": "stdout",
     "output_type": "stream",
     "text": [
      "Arthur Klark\n",
      "Notice the use of the print function\n"
     ]
    },
    {
     "data": {
      "text/plain": [
       "'Arthur Klark'"
      ]
     },
     "execution_count": 181,
     "metadata": {},
     "output_type": "execute_result"
    }
   ],
   "source": [
    "#Example of a property decorator \n",
    "class Employee:\n",
    "    def __init__(self, first, last):\n",
    "        self.first = first \n",
    "        self.last = last \n",
    "    \n",
    "    def fullname_1(self):\n",
    "        return( '{} {}'.format(self.first, self.last))\n",
    "\n",
    "    @property\n",
    "    def fullname_2(self):\n",
    "        return( '{} {}'.format(self.first, self.last))\n",
    "    \n",
    "\n",
    "emp = Employee('Arthur','Klark')\n",
    "\n",
    "print(emp.fullname_1())\n",
    "\n",
    "#Notice the use of the print function and the Out[] \n",
    "\n",
    "emp.fullname_2\n"
   ]
  },
  {
   "cell_type": "markdown",
   "metadata": {},
   "source": [
    "# Part 2 <a name=\"part_2\"></a>"
   ]
  },
  {
   "cell_type": "code",
   "execution_count": null,
   "metadata": {
    "collapsed": true
   },
   "outputs": [],
   "source": []
  },
  {
   "cell_type": "markdown",
   "metadata": {},
   "source": [
    "# 2.1 An iterator class <a name=\"An iterator class\"></a>"
   ]
  },
  {
   "cell_type": "markdown",
   "metadata": {},
   "source": [
    "[back to top](#Content)"
   ]
  },
  {
   "cell_type": "code",
   "execution_count": 31,
   "metadata": {
    "collapsed": false
   },
   "outputs": [
    {
     "name": "stdout",
     "output_type": "stream",
     "text": [
      "0 **2 = 0\n",
      "1 **2 = 1\n",
      "2 **2 = 4\n",
      "3 **2 = 9\n",
      "4 **2 = 16\n",
      "0\n",
      "1\n",
      "4\n",
      "9\n",
      "16\n"
     ]
    },
    {
     "data": {
      "text/plain": [
       "[0, 1, 4, 9, 16]"
      ]
     },
     "execution_count": 31,
     "metadata": {},
     "output_type": "execute_result"
    }
   ],
   "source": [
    "# Example iterator class \n",
    "# the class needs to contain the __iter__ and the __next__ methods in order for the class to work as an iterator\n",
    "class SquaresIterator:\n",
    "    def __init__(self, max_root_value):\n",
    "        self.max_root_value = max_root_value\n",
    "        self.current_root_value = 0\n",
    "        \n",
    "    def __iter__(self):\n",
    "        return self\n",
    "    \n",
    "    def __next__(self):\n",
    "        if self.current_root_value >= self.max_root_value:\n",
    "            raise StopIteration\n",
    "        square_value = self.current_root_value **2\n",
    "        self.current_root_value += 1\n",
    "        return square_value\n",
    "\n",
    "# usage\n",
    "for a, b in enumerate(SquaresIterator(5)):\n",
    "    print('{} **2 = {}'.format(a, b))\n",
    "    \n",
    "    \n",
    "# BUT this class is actually very easily implemented as a \"generator function\"\n",
    "\n",
    "def make_numbers():\n",
    "    n = 0\n",
    "    while n < 5:\n",
    "        yield n\n",
    "        n +=1 \n",
    "\n",
    "# or \n",
    "def make_squares(n):\n",
    "    for i in range(n):\n",
    "        yield i**2\n",
    "    yield 'end'\n",
    "    \n",
    "\n",
    "# use it as: \n",
    "for i in make_numbers():\n",
    "    print(i**2)\n",
    "\n",
    "# as a list comprehension \n",
    "[i**2 for i in make_numbers()]"
   ]
  },
  {
   "cell_type": "code",
   "execution_count": 32,
   "metadata": {
    "collapsed": false
   },
   "outputs": [
    {
     "data": {
      "text/plain": [
       "<generator object make_squares at 0x7f14932fac50>"
      ]
     },
     "execution_count": 32,
     "metadata": {},
     "output_type": "execute_result"
    }
   ],
   "source": [
    "make_squares(5)"
   ]
  },
  {
   "cell_type": "code",
   "execution_count": 33,
   "metadata": {
    "collapsed": false
   },
   "outputs": [
    {
     "name": "stdout",
     "output_type": "stream",
     "text": [
      "0\n",
      "1\n",
      "4\n",
      "9\n",
      "16\n",
      "end\n"
     ]
    }
   ],
   "source": [
    "for i in make_squares(5):\n",
    "    print(i)"
   ]
  },
  {
   "cell_type": "markdown",
   "metadata": {},
   "source": []
  },
  {
   "cell_type": "code",
   "execution_count": 15,
   "metadata": {
    "collapsed": false
   },
   "outputs": [
    {
     "data": {
      "text/plain": [
       "[(0, 5), (1, 6), (2, 7)]"
      ]
     },
     "execution_count": 15,
     "metadata": {},
     "output_type": "execute_result"
    }
   ],
   "source": [
    "# BTW - the built-in enumerate function:\n",
    "list(enumerate([5,6,7]))"
   ]
  },
  {
   "cell_type": "code",
   "execution_count": 16,
   "metadata": {
    "collapsed": false
   },
   "outputs": [
    {
     "data": {
      "text/plain": [
       "[(0, 5), (1, 6), (2, 7)]"
      ]
     },
     "execution_count": 16,
     "metadata": {},
     "output_type": "execute_result"
    }
   ],
   "source": [
    "# your own enumerate function \n",
    "def my_enumerate(sequence, start=0):\n",
    "    n = start\n",
    "    for elem in sequence:\n",
    "        yield n, elem\n",
    "        n += 1\n",
    "        \n",
    "list(my_enumerate([5,6,7]))"
   ]
  },
  {
   "cell_type": "markdown",
   "metadata": {
    "collapsed": false
   },
   "source": [
    "## 2.1.1 The iterator protocol <a name=\"The iterator protocol\"></a> "
   ]
  },
  {
   "cell_type": "markdown",
   "metadata": {
    "collapsed": true
   },
   "source": [
    "[back to top](#Content)"
   ]
  },
  {
   "cell_type": "code",
   "execution_count": 44,
   "metadata": {
    "collapsed": false
   },
   "outputs": [],
   "source": [
    "# simple implementation of the iter protocol\n",
    "\n",
    "class IterateMe:\n",
    "    def __init__(self, items):\n",
    "        self.items = items\n",
    "    def __iter__(self):\n",
    "        return iter(self.items)"
   ]
  },
  {
   "cell_type": "code",
   "execution_count": 45,
   "metadata": {
    "collapsed": false
   },
   "outputs": [],
   "source": [
    "i1 = IterateMe([1,2,3])"
   ]
  },
  {
   "cell_type": "code",
   "execution_count": 48,
   "metadata": {
    "collapsed": false
   },
   "outputs": [
    {
     "name": "stdout",
     "output_type": "stream",
     "text": [
      "1\n",
      "2\n",
      "3\n"
     ]
    }
   ],
   "source": [
    "for i in IterateMe([1,2,3]):\n",
    "    print(i)"
   ]
  },
  {
   "cell_type": "code",
   "execution_count": null,
   "metadata": {
    "collapsed": true
   },
   "outputs": [],
   "source": []
  },
  {
   "cell_type": "code",
   "execution_count": null,
   "metadata": {
    "collapsed": false
   },
   "outputs": [],
   "source": []
  },
  {
   "cell_type": "code",
   "execution_count": null,
   "metadata": {
    "collapsed": false
   },
   "outputs": [],
   "source": []
  },
  {
   "cell_type": "code",
   "execution_count": null,
   "metadata": {
    "collapsed": true
   },
   "outputs": [],
   "source": []
  }
 ],
 "metadata": {
  "anaconda-cloud": {},
  "kernelspec": {
   "display_name": "Python 3",
   "language": "python",
   "name": "python3"
  },
  "language_info": {
   "codemirror_mode": {
    "name": "ipython",
    "version": 3
   },
   "file_extension": ".py",
   "mimetype": "text/x-python",
   "name": "python",
   "nbconvert_exporter": "python",
   "pygments_lexer": "ipython3",
   "version": "3.5.2"
  }
 },
 "nbformat": 4,
 "nbformat_minor": 1
}
