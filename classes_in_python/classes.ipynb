{
 "cells": [
  {
   "cell_type": "markdown",
   "metadata": {},
   "source": [
    "-------------\n",
    "<h1 align=\"Left\">Types of classes in python</h1> \n",
    "\n",
    "[![View on GitHub](https://img.shields.io/badge/GitHub-View_on_GitHub-blue?logo=GitHub)](https://github.com/bkocis/advance-your-python)\n"
   ]
  },
  {
   "cell_type": "markdown",
   "metadata": {},
   "source": [
    "--------------\n",
    "### [Content](#Content`)<a name=\"Content\"></a>\n",
    "--------------\n",
    "\n",
    "#### 1.1 [Classes and instances](#Classes_and_instances)\n",
    "#### 1.2 [Class variables](#Class_variables)\n",
    "#### 1.3 [Classmethods](#Classmethods)\n",
    "#### 1.4 [Staticmethods](#Staticmethods)\n",
    "#### 1.5 [Inharitance](#Inharitance)\n",
    "#### 1.6 [Property decorator](#Property_decorator)\n",
    "\n",
    "#### 2.1 [An iterator class](#_iterator_class)\n",
    "##### 2.1.1 [The iterator protocol](#_iterator_protocol)\n"
   ]
  },
  {
   "cell_type": "markdown",
   "metadata": {},
   "source": [
    "## 1.1 Classes and instances <a name=\"Classes_and_instances\"></a>"
   ]
  },
  {
   "cell_type": "markdown",
   "metadata": {},
   "source": [
    "[back to top](#Content)"
   ]
  },
  {
   "cell_type": "markdown",
   "metadata": {},
   "source": [
    "\n",
    "\"A class is a blueprint to create instances\"\n",
    "\n",
    "Instances are created based on a blueprint called a class. A class defines attributes as data and methods as functions associated with it. An instance variable contains data unique to each instance. When a method from a class is called, it automatically receives the first instance as an argument.\n"
   ]
  },
  {
   "cell_type": "code",
   "execution_count": 2,
   "metadata": {},
   "outputs": [],
   "source": [
    "#Example of a class\n",
    "\n",
    "class Employee:\n",
    "    def __init__(self, first, last, pay): # fisr, last, pay are the arguments \n",
    "        self.first = first                # instance variable \n",
    "        self.last = last                  # instance variable \n",
    "        self.pay = pay\n",
    "\n",
    "# creating instances\n",
    "emp1 = Employee(\"Arthur\",\"Klark\",\"1000\")  # emp1 is an instance of the class,\n",
    "emp2 = Employee(\"Brigitte\", \"Klark\",\"2000\")\n",
    "\n",
    "#emp1.first = \"food\"\n"
   ]
  },
  {
   "cell_type": "code",
   "execution_count": 4,
   "metadata": {},
   "outputs": [
    {
     "name": "stdout",
     "output_type": "stream",
     "text": [
      "Arthur  Klark\n"
     ]
    },
    {
     "data": {
      "text/plain": [
       "'Arthur  Klark'"
      ]
     },
     "execution_count": 4,
     "metadata": {},
     "output_type": "execute_result"
    }
   ],
   "source": [
    "# Example of a class method - regular method \n",
    "\n",
    "class Employee:\n",
    "    def __init__(self,first, last, pay):\n",
    "        self.first = first\n",
    "        self.last = last\n",
    "        self.pay = pay\n",
    "        \n",
    "    def fullname(self):\n",
    "        return '{} {}'.format(self.first, self.last)\n",
    "\n",
    "# creating instances\n",
    "emp1 = Employee('Arthur', ' Klark', '1000')\n",
    "print(emp1.fullname())\n",
    "\n",
    "# or\n",
    "Employee.fullname(emp1)"
   ]
  },
  {
   "cell_type": "markdown",
   "metadata": {},
   "source": [
    "## 1.2 Class variables <a name=\"Class_variables\"></a>"
   ]
  },
  {
   "cell_type": "markdown",
   "metadata": {},
   "source": [
    "[back to top](#Content)"
   ]
  },
  {
   "cell_type": "markdown",
   "metadata": {},
   "source": [
    "\"Class variables are variables that are shared between all instances of a class\"\n"
   ]
  },
  {
   "cell_type": "code",
   "execution_count": 5,
   "metadata": {},
   "outputs": [
    {
     "name": "stdout",
     "output_type": "stream",
     "text": [
      "1040\n"
     ]
    }
   ],
   "source": [
    "# Example class variable\n",
    "class Employee:\n",
    "    \n",
    "    raise_amount = 1.04\n",
    "    \n",
    "    def __init__(self, first, last, pay):\n",
    "        self.first = first\n",
    "        self.last = last\n",
    "        self.pay = pay\n",
    "        \n",
    "    def fullname(self):\n",
    "        return ' {} {} '.format(self.first, self.last)\n",
    "    \n",
    "    def apply_raise(self):\n",
    "        #self.pay = int(self.pay * 1.04)\n",
    "        self.pay  = int(self.pay * self.raise_amount)\n",
    "        \n",
    "emp1 = Employee('Arthur','Klark',1000)\n",
    "emp1.apply_raise()\n",
    "print(emp1.pay)"
   ]
  },
  {
   "cell_type": "code",
   "execution_count": 6,
   "metadata": {},
   "outputs": [
    {
     "name": "stdout",
     "output_type": "stream",
     "text": [
      "{'first': 'Arthur', 'last': 'Klark', 'pay': 1040}\n"
     ]
    }
   ],
   "source": [
    "# print out the namespace of the instance\n",
    "print(emp1.__dict__)"
   ]
  },
  {
   "cell_type": "code",
   "execution_count": 7,
   "metadata": {},
   "outputs": [
    {
     "name": "stdout",
     "output_type": "stream",
     "text": [
      "{'__module__': '__main__', 'raise_amount': 1.04, '__init__': <function Employee.__init__ at 0x7f46e4ec8430>, 'fullname': <function Employee.fullname at 0x7f46e4ec84c0>, 'apply_raise': <function Employee.apply_raise at 0x7f46e4ec8550>, '__dict__': <attribute '__dict__' of 'Employee' objects>, '__weakref__': <attribute '__weakref__' of 'Employee' objects>, '__doc__': None}\n"
     ]
    }
   ],
   "source": [
    "# print out the namespace of the class - it does contain the 'raise_amount' attribute\n",
    "print(Employee.__dict__)"
   ]
  },
  {
   "cell_type": "code",
   "execution_count": 8,
   "metadata": {},
   "outputs": [],
   "source": [
    "# to change the class variable do:\n",
    "Employee.raise_amount = 1.04"
   ]
  },
  {
   "cell_type": "code",
   "execution_count": 9,
   "metadata": {},
   "outputs": [
    {
     "name": "stdout",
     "output_type": "stream",
     "text": [
      "1.04\n"
     ]
    }
   ],
   "source": [
    "print(Employee.raise_amount)"
   ]
  },
  {
   "cell_type": "code",
   "execution_count": 10,
   "metadata": {},
   "outputs": [
    {
     "name": "stdout",
     "output_type": "stream",
     "text": [
      "1060\n"
     ]
    }
   ],
   "source": [
    "# changing the class variable through the instance will not change the variable for the class\n",
    "emp1 = Employee('Arthur','Klark',1000)\n",
    "emp1.raise_amount = 1.06\n",
    "emp1.apply_raise()\n",
    "print(emp1.pay)"
   ]
  },
  {
   "cell_type": "code",
   "execution_count": 11,
   "metadata": {},
   "outputs": [
    {
     "name": "stdout",
     "output_type": "stream",
     "text": [
      "1040\n"
     ]
    }
   ],
   "source": [
    "emp1 = Employee('Arthur','Klark',1000)\n",
    "emp1.apply_raise()\n",
    "print(emp1.pay)"
   ]
  },
  {
   "cell_type": "code",
   "execution_count": 12,
   "metadata": {},
   "outputs": [
    {
     "name": "stdout",
     "output_type": "stream",
     "text": [
      "2\n"
     ]
    }
   ],
   "source": [
    "# Example Track the number of employees using class variables\n",
    "class Employee:\n",
    "    num_of_emps = 0\n",
    "    raise_amount = 1.04\n",
    "    def __init__(self, first, last, pay):\n",
    "        self.first = first\n",
    "        self.last = last\n",
    "        self.pay = pay\n",
    "        Employee.num_of_emps += 1                         # on a class \n",
    "        \n",
    "    def fullname(self):\n",
    "        return ' {} {}'.format(self.first, self.last)\n",
    "    \n",
    "    def apply_raise(self):\n",
    "        self.pay = int( self.pay * self.raise_amount)     # on an instance\n",
    "        \n",
    "\n",
    "emp1 = Employee('Arthur','Klark',1000)\n",
    "#print(Employee.num_of_emps)\n",
    "\n",
    "emp2 = Employee('Douglas','Kirk',2000)\n",
    "print(Employee.num_of_emps)"
   ]
  },
  {
   "cell_type": "markdown",
   "metadata": {},
   "source": [
    "## 1.3 Classmethods <a name=\"Classmethods\"></a>"
   ]
  },
  {
   "cell_type": "markdown",
   "metadata": {},
   "source": [
    "[back to top](#Content)"
   ]
  },
  {
   "cell_type": "markdown",
   "metadata": {},
   "source": [
    "\n",
    "\"Classmethods receive the class as the first argument instead of an instance\"\n",
    "\n"
   ]
  },
  {
   "cell_type": "code",
   "execution_count": 13,
   "metadata": {},
   "outputs": [],
   "source": [
    "# Example \n",
    "class Employee:\n",
    "    \n",
    "    num_of_emps = 0\n",
    "    raise_amount = 1.04\n",
    "    \n",
    "    def __init__(self, first, last, pay):\n",
    "        self.first = first \n",
    "        self.last = last\n",
    "        self.pay = pay\n",
    "        Employee.num_of_emps += 1\n",
    "        \n",
    "    def fullname(self):\n",
    "        return '{} {}'.format(self.first, self.last)\n",
    "    \n",
    "    def apply_raise(self):\n",
    "        self.pay = int( self.pay * self.raise_amount)\n",
    "    \n",
    "    @classmethod\n",
    "    def set_raise_amount( cls, amount ):\n",
    "        cls.raise_amount = amount\n",
    "        \n",
    "        "
   ]
  },
  {
   "cell_type": "code",
   "execution_count": 14,
   "metadata": {},
   "outputs": [],
   "source": [
    "emp1 = Employee('Arthur','Klark',1000)"
   ]
  },
  {
   "cell_type": "code",
   "execution_count": 15,
   "metadata": {},
   "outputs": [
    {
     "name": "stdout",
     "output_type": "stream",
     "text": [
      "1.07\n"
     ]
    }
   ],
   "source": [
    "Employee.set_raise_amount(1.07)\n",
    "print(Employee.raise_amount)"
   ]
  },
  {
   "cell_type": "code",
   "execution_count": 16,
   "metadata": {},
   "outputs": [
    {
     "name": "stdout",
     "output_type": "stream",
     "text": [
      "1.07\n"
     ]
    }
   ],
   "source": [
    "print(emp1.raise_amount)"
   ]
  },
  {
   "cell_type": "code",
   "execution_count": 17,
   "metadata": {},
   "outputs": [
    {
     "name": "stdout",
     "output_type": "stream",
     "text": [
      "1.08\n",
      "1.08\n"
     ]
    }
   ],
   "source": [
    "# the instance can also run the classmethod and so change the class variable \n",
    "emp1.set_raise_amount(1.08)\n",
    "print(emp1.raise_amount)\n",
    "print(Employee.raise_amount)"
   ]
  },
  {
   "cell_type": "code",
   "execution_count": 18,
   "metadata": {},
   "outputs": [],
   "source": [
    "# extending the class  \n",
    "class Employee:\n",
    "    \n",
    "    num_of_emps = 0\n",
    "    raise_amount = 1.04\n",
    "    \n",
    "    def __init__(self, first, last, pay):\n",
    "        self.first = first \n",
    "        self.last = last\n",
    "        self.pay = pay\n",
    "        Employee.num_of_emps += 1\n",
    "        \n",
    "    def fullname(self):\n",
    "        return '{} {}'.format(self.first, self.last)\n",
    "    \n",
    "    def apply_raise(self):\n",
    "        self.pay = int( self.pay * self.raise_amount)\n",
    "    \n",
    "    @classmethod\n",
    "    def set_raise_amount( cls, amount ):\n",
    "        cls.raise_amount = amount\n",
    "        \n",
    "    @classmethod\n",
    "    def from_string( cls, emp_str):\n",
    "        \"\"\"transforms a string input to desired form: 'Johnny-Mnemonic-100000\"\"\"\n",
    "        first, last, pay = emp_str.split('-')\n",
    "        return cls(first, last, int(pay))"
   ]
  },
  {
   "cell_type": "code",
   "execution_count": 19,
   "metadata": {},
   "outputs": [],
   "source": [
    "emp_str = 'Johnny-Mnemonic-100000'\n",
    "\n",
    "new_emp1 = Employee.from_string(emp_str)"
   ]
  },
  {
   "cell_type": "code",
   "execution_count": 20,
   "metadata": {},
   "outputs": [
    {
     "data": {
      "text/plain": [
       "'Johnny Mnemonic'"
      ]
     },
     "execution_count": 20,
     "metadata": {},
     "output_type": "execute_result"
    }
   ],
   "source": [
    "new_emp1.fullname()"
   ]
  },
  {
   "cell_type": "code",
   "execution_count": 21,
   "metadata": {},
   "outputs": [],
   "source": [
    "new_emp1.apply_raise()"
   ]
  },
  {
   "cell_type": "code",
   "execution_count": 22,
   "metadata": {},
   "outputs": [
    {
     "name": "stdout",
     "output_type": "stream",
     "text": [
      "104000\n"
     ]
    }
   ],
   "source": [
    "print(new_emp1.pay)"
   ]
  },
  {
   "cell_type": "markdown",
   "metadata": {},
   "source": [
    "# 1.4 Staticmethods <a name=\"Staticmethods\"></a>"
   ]
  },
  {
   "cell_type": "markdown",
   "metadata": {},
   "source": [
    "[back to top](#Content)"
   ]
  },
  {
   "cell_type": "markdown",
   "metadata": {},
   "source": [
    "In object-oriented programming, methods can be categorized as regular, class, or static methods. Regular methods require the instance to be passed as the first argument, whereas class methods require the class to be passed as the first argument. On the other hand, static methods don't automatically receive any argument and only take the argument that is explicitly provided during the method call.\n",
    "\n",
    "- regular methods : pass the instance as the first argument \n",
    "- class methods   : pass the class as the first argument \n",
    "- static methods  : don't pass nothing automatically, only takes the argument that we investigate\n"
   ]
  },
  {
   "cell_type": "code",
   "execution_count": 24,
   "metadata": {},
   "outputs": [],
   "source": [
    "# Example\n",
    "import datetime\n",
    "\n",
    "class DayCheck:\n",
    "#    def __init__(self, day):\n",
    "#        self.day = day\n",
    "        \n",
    "    @staticmethod\n",
    "    def is_workday(day):\n",
    "        if day.weekday() == 5 or day.weekday() == 6:\n",
    "            return False\n",
    "        return True\n",
    "    \n",
    "d=datetime.date(2017,10,22) "
   ]
  },
  {
   "cell_type": "code",
   "execution_count": 25,
   "metadata": {},
   "outputs": [
    {
     "data": {
      "text/plain": [
       "False"
      ]
     },
     "execution_count": 25,
     "metadata": {},
     "output_type": "execute_result"
    }
   ],
   "source": [
    "#DayCheck(d).is_workday(d)\n",
    "DayCheck.is_workday(d)"
   ]
  },
  {
   "cell_type": "markdown",
   "metadata": {},
   "source": [
    "# 1.5 Inharitance <a name=\"Inharitance\"></a>"
   ]
  },
  {
   "cell_type": "markdown",
   "metadata": {},
   "source": [
    "[back to top](#Content)"
   ]
  },
  {
   "cell_type": "markdown",
   "metadata": {},
   "source": [
    "Inheritance is a mechanism in object-oriented programming that allows a new class (called the \"subclass\" or \"derived class\") to be based on an existing class (called the \"parent class\" or \"base class\"), inheriting its attributes and methods.\n",
    "\n",
    "When a subclass inherits from a parent class, it can extend or modify the functionality of the parent class by adding new attributes or methods, or by overriding existing ones. However, the parent class itself remains unchanged, and any other subclasses that inherit from it will continue to use the original implementation of its attributes and methods unless they also override them.\n"
   ]
  },
  {
   "cell_type": "code",
   "execution_count": 26,
   "metadata": {},
   "outputs": [],
   "source": [
    "# extending the class  \n",
    "class Employee:\n",
    "    \n",
    "    num_of_emps = 0\n",
    "    raise_amount = 1.04\n",
    "    \n",
    "    def __init__(self, first, last, pay):\n",
    "        self.first = first \n",
    "        self.last = last\n",
    "        self.pay = pay\n",
    "        Employee.num_of_emps += 1\n",
    "        \n",
    "    def fullname(self):\n",
    "        return '{} {}'.format(self.first, self.last)\n",
    "    \n",
    "    def apply_raise(self):\n",
    "        self.pay = int( self.pay * self.raise_amount)\n",
    "    \n",
    "    @classmethod\n",
    "    def set_raise_amount( cls, amount ):\n",
    "        cls.raise_amount = amount\n",
    "        \n",
    "    @classmethod\n",
    "    def from_string( cls, emp_str):\n",
    "        \"\"\"transforms a string input to desired form: 'Johnny-Mnemonic-100000\"\"\"\n",
    "        first, last, pay = emp_str.split('-')\n",
    "        return cls(first, last, int(pay))\n",
    "    \n",
    "    @staticmethod\n",
    "    def is_workday(day):\n",
    "        if day.weekday() == 5 or day.weekday() == 6:\n",
    "            return False\n",
    "        return True\n",
    "\n",
    "# define another class\n",
    "class Developer(Employee):\n",
    "    raise_amount = 2\n",
    "\n"
   ]
  },
  {
   "cell_type": "code",
   "execution_count": 27,
   "metadata": {},
   "outputs": [
    {
     "data": {
      "text/plain": [
       "False"
      ]
     },
     "execution_count": 27,
     "metadata": {},
     "output_type": "execute_result"
    }
   ],
   "source": [
    "Employee('Arthur','Klark',1000).is_workday(d)"
   ]
  },
  {
   "cell_type": "code",
   "execution_count": 28,
   "metadata": {},
   "outputs": [],
   "source": [
    "dev1 = Developer('Arthur','Klark',1000)"
   ]
  },
  {
   "cell_type": "code",
   "execution_count": 29,
   "metadata": {},
   "outputs": [
    {
     "name": "stdout",
     "output_type": "stream",
     "text": [
      "2\n"
     ]
    }
   ],
   "source": [
    "print(dev1.raise_amount)"
   ]
  },
  {
   "cell_type": "code",
   "execution_count": 30,
   "metadata": {},
   "outputs": [
    {
     "name": "stdout",
     "output_type": "stream",
     "text": [
      "1000\n"
     ]
    }
   ],
   "source": [
    "print(dev1.pay)"
   ]
  },
  {
   "cell_type": "code",
   "execution_count": 31,
   "metadata": {},
   "outputs": [],
   "source": [
    "Developer.apply_raise(dev1)"
   ]
  },
  {
   "cell_type": "code",
   "execution_count": 32,
   "metadata": {},
   "outputs": [
    {
     "name": "stdout",
     "output_type": "stream",
     "text": [
      "2000\n"
     ]
    }
   ],
   "source": [
    "print(dev1.pay)"
   ]
  },
  {
   "cell_type": "markdown",
   "metadata": {},
   "source": [
    "Adding more functionality to the original class:\n"
   ]
  },
  {
   "cell_type": "code",
   "execution_count": 33,
   "metadata": {},
   "outputs": [],
   "source": [
    "# extending the functionality\n",
    "class Developer(Employee):\n",
    "    raise_amount = 2\n",
    "    \n",
    "    def __init__(self, first, last, pay, prog_lang):\n",
    "        \n",
    "        # insted the lines above you can take the super method to take all attributes from the original class \n",
    "        super().__init__(first, last, pay)\n",
    "        \n",
    "        # and just define the additional attribute\n",
    "        self.prog_lang = prog_lang\n",
    "        \n",
    "        "
   ]
  },
  {
   "cell_type": "code",
   "execution_count": 34,
   "metadata": {},
   "outputs": [],
   "source": [
    "dev1 = Developer('Arthut', 'Klark', 1000, 'Python')"
   ]
  },
  {
   "cell_type": "code",
   "execution_count": 35,
   "metadata": {},
   "outputs": [
    {
     "data": {
      "text/plain": [
       "'Arthut Klark'"
      ]
     },
     "execution_count": 35,
     "metadata": {},
     "output_type": "execute_result"
    }
   ],
   "source": [
    "dev1.fullname()"
   ]
  },
  {
   "cell_type": "code",
   "execution_count": 36,
   "metadata": {},
   "outputs": [
    {
     "name": "stdout",
     "output_type": "stream",
     "text": [
      "Python\n"
     ]
    }
   ],
   "source": [
    "print(dev1.prog_lang)"
   ]
  },
  {
   "cell_type": "markdown",
   "metadata": {},
   "source": [
    "Adding more classes that inharit from Employee class:\n"
   ]
  },
  {
   "cell_type": "code",
   "execution_count": 37,
   "metadata": {},
   "outputs": [],
   "source": [
    "class Manager(Employee):\n",
    "    def __init__(self, first, last, pay, employees = None):\n",
    "        super().__init__(first, last, pay)\n",
    "        \n",
    "        if employees is None:\n",
    "            self.employees = []\n",
    "        else:\n",
    "            self.employees = employees\n",
    "        \n",
    "    # adding more regular methods\n",
    "    \n",
    "    def add_emp(self, emp):\n",
    "        if emp not in self.employees:\n",
    "            self.employees.append(emp)\n",
    "    \n",
    "    def print_emp(self):\n",
    "        for emp in self.employees:\n",
    "            print( '->>',emp.fullname())"
   ]
  },
  {
   "cell_type": "code",
   "execution_count": 38,
   "metadata": {},
   "outputs": [],
   "source": [
    "dev1 = Developer('Arthur', 'Klark', 1000, 'python')"
   ]
  },
  {
   "cell_type": "code",
   "execution_count": 39,
   "metadata": {},
   "outputs": [],
   "source": [
    "mng1 = Manager('Robert', 'Doyle', 500, [dev1])"
   ]
  },
  {
   "cell_type": "code",
   "execution_count": 40,
   "metadata": {},
   "outputs": [
    {
     "name": "stdout",
     "output_type": "stream",
     "text": [
      "->> Arthur Klark\n"
     ]
    }
   ],
   "source": [
    "mng1.print_emp()"
   ]
  },
  {
   "cell_type": "code",
   "execution_count": 41,
   "metadata": {},
   "outputs": [
    {
     "data": {
      "text/plain": [
       "'Robert Doyle'"
      ]
     },
     "execution_count": 41,
     "metadata": {},
     "output_type": "execute_result"
    }
   ],
   "source": [
    "mng1.fullname()"
   ]
  },
  {
   "cell_type": "markdown",
   "metadata": {},
   "source": [
    "# 1.6 Property decorator <a name=\"Property_decorator\"></a>"
   ]
  },
  {
   "cell_type": "markdown",
   "metadata": {},
   "source": [
    "[back to top](#Content)"
   ]
  },
  {
   "cell_type": "markdown",
   "metadata": {},
   "source": [
    "\n",
    "\"When @property decorator is applied on a regular method of a class, that method will be accessible only as an attribute and not as a method\"\n",
    "\n",
    "Python provides decorators that can be used to modify the behavior of functions or methods in a class. One such decorator is \"@property\", which when applied to a regular method in a class, makes it accessible as an attribute instead of a method. This means that when an object of the class is accessed, the method with the @property decorator can be accessed like an attribute, without having to call it as a method. However, it is important to note that using the @property decorator in this way means that the method can no longer be called like a regular method, but rather can only be accessed like an attribute. It is a useful feature when the method is used to compute some property or value that depends on the object's state, as it simplifies the access to the property. It is important to keep in mind that the @property decorator is not suitable for all use cases and should be used with care."
   ]
  },
  {
   "cell_type": "code",
   "execution_count": 43,
   "metadata": {},
   "outputs": [
    {
     "name": "stdout",
     "output_type": "stream",
     "text": [
      "Arthur Klark\n"
     ]
    },
    {
     "data": {
      "text/plain": [
       "'Arthur Klark'"
      ]
     },
     "execution_count": 43,
     "metadata": {},
     "output_type": "execute_result"
    }
   ],
   "source": [
    "#Example of a property decorator \n",
    "class Employee:\n",
    "    def __init__(self, first, last):\n",
    "        self.first = first \n",
    "        self.last = last \n",
    "    \n",
    "    def fullname_1(self):\n",
    "        return( '{} {}'.format(self.first, self.last))\n",
    "\n",
    "    @property\n",
    "    def fullname_2(self):\n",
    "        return( '{} {}'.format(self.first, self.last))\n",
    "    \n",
    "\n",
    "emp = Employee('Arthur','Klark')\n",
    "\n",
    "print(emp.fullname_1())\n",
    "\n",
    "#Notice the use of the print function and the Out[] \n",
    "\n",
    "emp.fullname_2\n"
   ]
  },
  {
   "cell_type": "markdown",
   "metadata": {},
   "source": [
    "# 2.1 An iterator class <a name=\"iterator_class\"></a>"
   ]
  },
  {
   "cell_type": "markdown",
   "metadata": {},
   "source": [
    "[back to top](#Content)"
   ]
  },
  {
   "cell_type": "markdown",
   "metadata": {},
   "source": [
    "In Python, an iterator is an object that provides a sequence of values one at a time. It is implemented as a class that defines two methods, iter() and next(). The iter() method returns the iterator object itself, while the next() method returns the next value in the sequence or raises the StopIteration exception if there are no more values. The use of iterators makes it possible to iterate over large data sets without having to load them all into memory at once."
   ]
  },
  {
   "cell_type": "code",
   "execution_count": 44,
   "metadata": {},
   "outputs": [
    {
     "name": "stdout",
     "output_type": "stream",
     "text": [
      "0 **2 = 0\n",
      "1 **2 = 1\n",
      "2 **2 = 4\n",
      "3 **2 = 9\n",
      "4 **2 = 16\n",
      "0\n",
      "1\n",
      "4\n",
      "9\n",
      "16\n"
     ]
    },
    {
     "data": {
      "text/plain": [
       "[0, 1, 4, 9, 16]"
      ]
     },
     "execution_count": 44,
     "metadata": {},
     "output_type": "execute_result"
    }
   ],
   "source": [
    "# Example iterator class \n",
    "# the class needs to contain the __iter__ and the __next__ methods in order for the class to work as an iterator\n",
    "class SquaresIterator:\n",
    "    def __init__(self, max_root_value):\n",
    "        self.max_root_value = max_root_value\n",
    "        self.current_root_value = 0\n",
    "        \n",
    "    def __iter__(self):\n",
    "        return self\n",
    "    \n",
    "    def __next__(self):\n",
    "        if self.current_root_value >= self.max_root_value:\n",
    "            raise StopIteration\n",
    "        square_value = self.current_root_value **2\n",
    "        self.current_root_value += 1\n",
    "        return square_value\n",
    "\n",
    "# usage\n",
    "for a, b in enumerate(SquaresIterator(5)):\n",
    "    print('{} **2 = {}'.format(a, b))\n",
    "    \n",
    "    \n",
    "# BUT this class is actually very easily implemented as a \"generator function\"\n",
    "\n",
    "def make_numbers():\n",
    "    n = 0\n",
    "    while n < 5:\n",
    "        yield n\n",
    "        n +=1 \n",
    "\n",
    "# or \n",
    "def make_squares(n):\n",
    "    for i in range(n):\n",
    "        yield i**2\n",
    "    yield 'end'\n",
    "    \n",
    "\n",
    "# use it as: \n",
    "for i in make_numbers():\n",
    "    print(i**2)\n",
    "\n",
    "# as a list comprehension \n",
    "[i**2 for i in make_numbers()]"
   ]
  },
  {
   "cell_type": "code",
   "execution_count": 45,
   "metadata": {},
   "outputs": [
    {
     "data": {
      "text/plain": [
       "<generator object make_squares at 0x7f46e0109a80>"
      ]
     },
     "execution_count": 45,
     "metadata": {},
     "output_type": "execute_result"
    }
   ],
   "source": [
    "make_squares(5)"
   ]
  },
  {
   "cell_type": "code",
   "execution_count": 46,
   "metadata": {},
   "outputs": [
    {
     "name": "stdout",
     "output_type": "stream",
     "text": [
      "0\n",
      "1\n",
      "4\n",
      "9\n",
      "16\n",
      "end\n"
     ]
    }
   ],
   "source": [
    "for i in make_squares(5):\n",
    "    print(i)"
   ]
  },
  {
   "cell_type": "markdown",
   "metadata": {},
   "source": []
  },
  {
   "cell_type": "code",
   "execution_count": 47,
   "metadata": {},
   "outputs": [
    {
     "data": {
      "text/plain": [
       "[(0, 5), (1, 6), (2, 7)]"
      ]
     },
     "execution_count": 47,
     "metadata": {},
     "output_type": "execute_result"
    }
   ],
   "source": [
    "# BTW - the built-in enumerate function:\n",
    "list(enumerate([5,6,7]))"
   ]
  },
  {
   "cell_type": "code",
   "execution_count": 48,
   "metadata": {},
   "outputs": [
    {
     "data": {
      "text/plain": [
       "[(0, 5), (1, 6), (2, 7)]"
      ]
     },
     "execution_count": 48,
     "metadata": {},
     "output_type": "execute_result"
    }
   ],
   "source": [
    "# your own enumerate function \n",
    "def my_enumerate(sequence, start=0):\n",
    "    n = start\n",
    "    for elem in sequence:\n",
    "        yield n, elem\n",
    "        n += 1\n",
    "        \n",
    "list(my_enumerate([5,6,7]))"
   ]
  }
 ],
 "metadata": {
  "anaconda-cloud": {},
  "kernelspec": {
   "display_name": "Python 3 (ipykernel)",
   "language": "python",
   "name": "python3"
  },
  "language_info": {
   "codemirror_mode": {
    "name": "ipython",
    "version": 3
   },
   "file_extension": ".py",
   "mimetype": "text/x-python",
   "name": "python",
   "nbconvert_exporter": "python",
   "pygments_lexer": "ipython3",
   "version": "3.10.6"
  },
  "vscode": {
   "interpreter": {
    "hash": "916dbcbb3f70747c44a77c7bcd40155683ae19c65e1c03b4aa3499c5328201f1"
   }
  }
 },
 "nbformat": 4,
 "nbformat_minor": 1
}
